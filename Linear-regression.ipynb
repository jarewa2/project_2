{
 "cells": [
  {
   "cell_type": "code",
   "execution_count": 2,
   "id": "ef089294-d2d2-4ff7-8a60-8d9c8161ef74",
   "metadata": {},
   "outputs": [],
   "source": [
    "from datetime import datetime as dt\n",
    "from datetime import datetime, timedelta\n",
    "import numpy as np\n",
    "import matplotlib.pyplot as plt  \n",
    "import pandas as pd \n",
    "from sklearn.model_selection import train_test_split\n",
    "from sklearn.linear_model import LinearRegression \n",
    "from sklearn.metrics import mean_squared_error, r2_score\n",
    "from statsmodels.tsa.arima.model import ARIMA"
   ]
  },
  {
   "cell_type": "code",
   "execution_count": 3,
   "id": "b5b522f4-0afc-4e81-88c0-5d0ac540fa90",
   "metadata": {},
   "outputs": [],
   "source": [
    "data = pd.read_csv('Philly_weather.csv')  \n",
    "data.dropna(inplace=True)"
   ]
  },
  {
   "cell_type": "code",
   "execution_count": 4,
   "id": "365d8613-1cdf-4f18-8a14-5949832352b0",
   "metadata": {},
   "outputs": [
    {
     "data": {
      "text/plain": [
       "(44625, 7)"
      ]
     },
     "execution_count": 4,
     "metadata": {},
     "output_type": "execute_result"
    }
   ],
   "source": [
    "data.shape"
   ]
  },
  {
   "cell_type": "code",
   "execution_count": 5,
   "id": "8adbcd94-23ae-49cc-9532-58e8a3955097",
   "metadata": {},
   "outputs": [
    {
     "data": {
      "text/html": [
       "<div>\n",
       "<style scoped>\n",
       "    .dataframe tbody tr th:only-of-type {\n",
       "        vertical-align: middle;\n",
       "    }\n",
       "\n",
       "    .dataframe tbody tr th {\n",
       "        vertical-align: top;\n",
       "    }\n",
       "\n",
       "    .dataframe thead th {\n",
       "        text-align: right;\n",
       "    }\n",
       "</style>\n",
       "<table border=\"1\" class=\"dataframe\">\n",
       "  <thead>\n",
       "    <tr style=\"text-align: right;\">\n",
       "      <th></th>\n",
       "      <th>datetime</th>\n",
       "      <th>humidity</th>\n",
       "      <th>pressure</th>\n",
       "      <th>temperature</th>\n",
       "      <th>wind-direction</th>\n",
       "      <th>wind-speed</th>\n",
       "      <th>weather-description</th>\n",
       "    </tr>\n",
       "  </thead>\n",
       "  <tbody>\n",
       "    <tr>\n",
       "      <th>0</th>\n",
       "      <td>2012-10-01 13:00:00</td>\n",
       "      <td>71.0</td>\n",
       "      <td>1014.0</td>\n",
       "      <td>285.630000</td>\n",
       "      <td>270.0</td>\n",
       "      <td>4.0</td>\n",
       "      <td>broken clouds</td>\n",
       "    </tr>\n",
       "    <tr>\n",
       "      <th>1</th>\n",
       "      <td>2012-10-01 14:00:00</td>\n",
       "      <td>70.0</td>\n",
       "      <td>1014.0</td>\n",
       "      <td>285.663208</td>\n",
       "      <td>270.0</td>\n",
       "      <td>4.0</td>\n",
       "      <td>broken clouds</td>\n",
       "    </tr>\n",
       "    <tr>\n",
       "      <th>2</th>\n",
       "      <td>2012-10-01 15:00:00</td>\n",
       "      <td>70.0</td>\n",
       "      <td>1014.0</td>\n",
       "      <td>285.756824</td>\n",
       "      <td>271.0</td>\n",
       "      <td>3.0</td>\n",
       "      <td>broken clouds</td>\n",
       "    </tr>\n",
       "    <tr>\n",
       "      <th>3</th>\n",
       "      <td>2012-10-01 16:00:00</td>\n",
       "      <td>69.0</td>\n",
       "      <td>1014.0</td>\n",
       "      <td>285.850440</td>\n",
       "      <td>272.0</td>\n",
       "      <td>3.0</td>\n",
       "      <td>broken clouds</td>\n",
       "    </tr>\n",
       "    <tr>\n",
       "      <th>4</th>\n",
       "      <td>2012-10-01 17:00:00</td>\n",
       "      <td>69.0</td>\n",
       "      <td>1014.0</td>\n",
       "      <td>285.944057</td>\n",
       "      <td>274.0</td>\n",
       "      <td>3.0</td>\n",
       "      <td>broken clouds</td>\n",
       "    </tr>\n",
       "    <tr>\n",
       "      <th>5</th>\n",
       "      <td>2012-10-01 18:00:00</td>\n",
       "      <td>68.0</td>\n",
       "      <td>1014.0</td>\n",
       "      <td>286.037673</td>\n",
       "      <td>275.0</td>\n",
       "      <td>3.0</td>\n",
       "      <td>broken clouds</td>\n",
       "    </tr>\n",
       "    <tr>\n",
       "      <th>6</th>\n",
       "      <td>2012-10-01 19:00:00</td>\n",
       "      <td>68.0</td>\n",
       "      <td>1014.0</td>\n",
       "      <td>286.131290</td>\n",
       "      <td>276.0</td>\n",
       "      <td>3.0</td>\n",
       "      <td>broken clouds</td>\n",
       "    </tr>\n",
       "    <tr>\n",
       "      <th>7</th>\n",
       "      <td>2012-10-01 20:00:00</td>\n",
       "      <td>67.0</td>\n",
       "      <td>1014.0</td>\n",
       "      <td>286.224906</td>\n",
       "      <td>277.0</td>\n",
       "      <td>3.0</td>\n",
       "      <td>broken clouds</td>\n",
       "    </tr>\n",
       "    <tr>\n",
       "      <th>8</th>\n",
       "      <td>2012-10-01 21:00:00</td>\n",
       "      <td>67.0</td>\n",
       "      <td>1014.0</td>\n",
       "      <td>286.318522</td>\n",
       "      <td>279.0</td>\n",
       "      <td>3.0</td>\n",
       "      <td>broken clouds</td>\n",
       "    </tr>\n",
       "    <tr>\n",
       "      <th>9</th>\n",
       "      <td>2012-10-01 22:00:00</td>\n",
       "      <td>66.0</td>\n",
       "      <td>1014.0</td>\n",
       "      <td>286.412139</td>\n",
       "      <td>280.0</td>\n",
       "      <td>3.0</td>\n",
       "      <td>broken clouds</td>\n",
       "    </tr>\n",
       "  </tbody>\n",
       "</table>\n",
       "</div>"
      ],
      "text/plain": [
       "              datetime  humidity  pressure  temperature  wind-direction  \\\n",
       "0  2012-10-01 13:00:00      71.0    1014.0   285.630000           270.0   \n",
       "1  2012-10-01 14:00:00      70.0    1014.0   285.663208           270.0   \n",
       "2  2012-10-01 15:00:00      70.0    1014.0   285.756824           271.0   \n",
       "3  2012-10-01 16:00:00      69.0    1014.0   285.850440           272.0   \n",
       "4  2012-10-01 17:00:00      69.0    1014.0   285.944057           274.0   \n",
       "5  2012-10-01 18:00:00      68.0    1014.0   286.037673           275.0   \n",
       "6  2012-10-01 19:00:00      68.0    1014.0   286.131290           276.0   \n",
       "7  2012-10-01 20:00:00      67.0    1014.0   286.224906           277.0   \n",
       "8  2012-10-01 21:00:00      67.0    1014.0   286.318522           279.0   \n",
       "9  2012-10-01 22:00:00      66.0    1014.0   286.412139           280.0   \n",
       "\n",
       "   wind-speed weather-description  \n",
       "0         4.0       broken clouds  \n",
       "1         4.0       broken clouds  \n",
       "2         3.0       broken clouds  \n",
       "3         3.0       broken clouds  \n",
       "4         3.0       broken clouds  \n",
       "5         3.0       broken clouds  \n",
       "6         3.0       broken clouds  \n",
       "7         3.0       broken clouds  \n",
       "8         3.0       broken clouds  \n",
       "9         3.0       broken clouds  "
      ]
     },
     "execution_count": 5,
     "metadata": {},
     "output_type": "execute_result"
    }
   ],
   "source": [
    "data.head(10)"
   ]
  },
  {
   "cell_type": "code",
   "execution_count": 6,
   "id": "dfb74841-6843-48f7-8ff3-3a16d7aaf241",
   "metadata": {},
   "outputs": [
    {
     "name": "stdout",
     "output_type": "stream",
     "text": [
      "<class 'pandas.core.frame.DataFrame'>\n",
      "Int64Index: 44625 entries, 0 to 44624\n",
      "Data columns (total 7 columns):\n",
      " #   Column               Non-Null Count  Dtype  \n",
      "---  ------               --------------  -----  \n",
      " 0   datetime             44625 non-null  object \n",
      " 1   humidity             44625 non-null  float64\n",
      " 2   pressure             44625 non-null  float64\n",
      " 3   temperature          44625 non-null  float64\n",
      " 4   wind-direction       44625 non-null  float64\n",
      " 5   wind-speed           44625 non-null  float64\n",
      " 6   weather-description  44625 non-null  object \n",
      "dtypes: float64(5), object(2)\n",
      "memory usage: 2.7+ MB\n"
     ]
    }
   ],
   "source": [
    "data.info()"
   ]
  },
  {
   "cell_type": "code",
   "execution_count": 7,
   "id": "aa46dddf-ceb0-4df7-8b0a-29d1305deab4",
   "metadata": {},
   "outputs": [],
   "source": [
    "data[\"day\"] = pd.to_datetime(data['datetime'], format='%Y-%m-%d').dt.day"
   ]
  },
  {
   "cell_type": "code",
   "execution_count": 8,
   "id": "8637d201-1c83-48ff-b057-ef6be66e72b7",
   "metadata": {},
   "outputs": [
    {
     "data": {
      "text/html": [
       "<div>\n",
       "<style scoped>\n",
       "    .dataframe tbody tr th:only-of-type {\n",
       "        vertical-align: middle;\n",
       "    }\n",
       "\n",
       "    .dataframe tbody tr th {\n",
       "        vertical-align: top;\n",
       "    }\n",
       "\n",
       "    .dataframe thead th {\n",
       "        text-align: right;\n",
       "    }\n",
       "</style>\n",
       "<table border=\"1\" class=\"dataframe\">\n",
       "  <thead>\n",
       "    <tr style=\"text-align: right;\">\n",
       "      <th></th>\n",
       "      <th>datetime</th>\n",
       "      <th>humidity</th>\n",
       "      <th>pressure</th>\n",
       "      <th>temperature</th>\n",
       "      <th>wind-direction</th>\n",
       "      <th>wind-speed</th>\n",
       "      <th>weather-description</th>\n",
       "      <th>day</th>\n",
       "    </tr>\n",
       "  </thead>\n",
       "  <tbody>\n",
       "    <tr>\n",
       "      <th>0</th>\n",
       "      <td>2012-10-01 13:00:00</td>\n",
       "      <td>71.0</td>\n",
       "      <td>1014.0</td>\n",
       "      <td>285.630000</td>\n",
       "      <td>270.0</td>\n",
       "      <td>4.0</td>\n",
       "      <td>broken clouds</td>\n",
       "      <td>1</td>\n",
       "    </tr>\n",
       "    <tr>\n",
       "      <th>1</th>\n",
       "      <td>2012-10-01 14:00:00</td>\n",
       "      <td>70.0</td>\n",
       "      <td>1014.0</td>\n",
       "      <td>285.663208</td>\n",
       "      <td>270.0</td>\n",
       "      <td>4.0</td>\n",
       "      <td>broken clouds</td>\n",
       "      <td>1</td>\n",
       "    </tr>\n",
       "    <tr>\n",
       "      <th>2</th>\n",
       "      <td>2012-10-01 15:00:00</td>\n",
       "      <td>70.0</td>\n",
       "      <td>1014.0</td>\n",
       "      <td>285.756824</td>\n",
       "      <td>271.0</td>\n",
       "      <td>3.0</td>\n",
       "      <td>broken clouds</td>\n",
       "      <td>1</td>\n",
       "    </tr>\n",
       "    <tr>\n",
       "      <th>3</th>\n",
       "      <td>2012-10-01 16:00:00</td>\n",
       "      <td>69.0</td>\n",
       "      <td>1014.0</td>\n",
       "      <td>285.850440</td>\n",
       "      <td>272.0</td>\n",
       "      <td>3.0</td>\n",
       "      <td>broken clouds</td>\n",
       "      <td>1</td>\n",
       "    </tr>\n",
       "    <tr>\n",
       "      <th>4</th>\n",
       "      <td>2012-10-01 17:00:00</td>\n",
       "      <td>69.0</td>\n",
       "      <td>1014.0</td>\n",
       "      <td>285.944057</td>\n",
       "      <td>274.0</td>\n",
       "      <td>3.0</td>\n",
       "      <td>broken clouds</td>\n",
       "      <td>1</td>\n",
       "    </tr>\n",
       "    <tr>\n",
       "      <th>5</th>\n",
       "      <td>2012-10-01 18:00:00</td>\n",
       "      <td>68.0</td>\n",
       "      <td>1014.0</td>\n",
       "      <td>286.037673</td>\n",
       "      <td>275.0</td>\n",
       "      <td>3.0</td>\n",
       "      <td>broken clouds</td>\n",
       "      <td>1</td>\n",
       "    </tr>\n",
       "    <tr>\n",
       "      <th>6</th>\n",
       "      <td>2012-10-01 19:00:00</td>\n",
       "      <td>68.0</td>\n",
       "      <td>1014.0</td>\n",
       "      <td>286.131290</td>\n",
       "      <td>276.0</td>\n",
       "      <td>3.0</td>\n",
       "      <td>broken clouds</td>\n",
       "      <td>1</td>\n",
       "    </tr>\n",
       "    <tr>\n",
       "      <th>7</th>\n",
       "      <td>2012-10-01 20:00:00</td>\n",
       "      <td>67.0</td>\n",
       "      <td>1014.0</td>\n",
       "      <td>286.224906</td>\n",
       "      <td>277.0</td>\n",
       "      <td>3.0</td>\n",
       "      <td>broken clouds</td>\n",
       "      <td>1</td>\n",
       "    </tr>\n",
       "    <tr>\n",
       "      <th>8</th>\n",
       "      <td>2012-10-01 21:00:00</td>\n",
       "      <td>67.0</td>\n",
       "      <td>1014.0</td>\n",
       "      <td>286.318522</td>\n",
       "      <td>279.0</td>\n",
       "      <td>3.0</td>\n",
       "      <td>broken clouds</td>\n",
       "      <td>1</td>\n",
       "    </tr>\n",
       "    <tr>\n",
       "      <th>9</th>\n",
       "      <td>2012-10-01 22:00:00</td>\n",
       "      <td>66.0</td>\n",
       "      <td>1014.0</td>\n",
       "      <td>286.412139</td>\n",
       "      <td>280.0</td>\n",
       "      <td>3.0</td>\n",
       "      <td>broken clouds</td>\n",
       "      <td>1</td>\n",
       "    </tr>\n",
       "    <tr>\n",
       "      <th>10</th>\n",
       "      <td>2012-10-01 23:00:00</td>\n",
       "      <td>66.0</td>\n",
       "      <td>1014.0</td>\n",
       "      <td>286.505755</td>\n",
       "      <td>281.0</td>\n",
       "      <td>3.0</td>\n",
       "      <td>broken clouds</td>\n",
       "      <td>1</td>\n",
       "    </tr>\n",
       "    <tr>\n",
       "      <th>11</th>\n",
       "      <td>2012-10-02 00:00:00</td>\n",
       "      <td>65.0</td>\n",
       "      <td>1014.0</td>\n",
       "      <td>286.599371</td>\n",
       "      <td>282.0</td>\n",
       "      <td>2.0</td>\n",
       "      <td>broken clouds</td>\n",
       "      <td>2</td>\n",
       "    </tr>\n",
       "    <tr>\n",
       "      <th>12</th>\n",
       "      <td>2012-10-02 01:00:00</td>\n",
       "      <td>65.0</td>\n",
       "      <td>1014.0</td>\n",
       "      <td>286.692988</td>\n",
       "      <td>283.0</td>\n",
       "      <td>2.0</td>\n",
       "      <td>broken clouds</td>\n",
       "      <td>2</td>\n",
       "    </tr>\n",
       "    <tr>\n",
       "      <th>13</th>\n",
       "      <td>2012-10-02 02:00:00</td>\n",
       "      <td>64.0</td>\n",
       "      <td>1014.0</td>\n",
       "      <td>286.786604</td>\n",
       "      <td>285.0</td>\n",
       "      <td>2.0</td>\n",
       "      <td>broken clouds</td>\n",
       "      <td>2</td>\n",
       "    </tr>\n",
       "    <tr>\n",
       "      <th>14</th>\n",
       "      <td>2012-10-02 03:00:00</td>\n",
       "      <td>64.0</td>\n",
       "      <td>1014.0</td>\n",
       "      <td>286.880220</td>\n",
       "      <td>286.0</td>\n",
       "      <td>2.0</td>\n",
       "      <td>broken clouds</td>\n",
       "      <td>2</td>\n",
       "    </tr>\n",
       "    <tr>\n",
       "      <th>15</th>\n",
       "      <td>2012-10-02 04:00:00</td>\n",
       "      <td>63.0</td>\n",
       "      <td>1014.0</td>\n",
       "      <td>286.973837</td>\n",
       "      <td>287.0</td>\n",
       "      <td>2.0</td>\n",
       "      <td>broken clouds</td>\n",
       "      <td>2</td>\n",
       "    </tr>\n",
       "    <tr>\n",
       "      <th>16</th>\n",
       "      <td>2012-10-02 05:00:00</td>\n",
       "      <td>63.0</td>\n",
       "      <td>1014.0</td>\n",
       "      <td>287.067453</td>\n",
       "      <td>288.0</td>\n",
       "      <td>2.0</td>\n",
       "      <td>broken clouds</td>\n",
       "      <td>2</td>\n",
       "    </tr>\n",
       "    <tr>\n",
       "      <th>17</th>\n",
       "      <td>2012-10-02 06:00:00</td>\n",
       "      <td>62.0</td>\n",
       "      <td>1014.0</td>\n",
       "      <td>287.161069</td>\n",
       "      <td>290.0</td>\n",
       "      <td>2.0</td>\n",
       "      <td>broken clouds</td>\n",
       "      <td>2</td>\n",
       "    </tr>\n",
       "    <tr>\n",
       "      <th>18</th>\n",
       "      <td>2012-10-02 07:00:00</td>\n",
       "      <td>62.0</td>\n",
       "      <td>1014.0</td>\n",
       "      <td>287.254686</td>\n",
       "      <td>291.0</td>\n",
       "      <td>2.0</td>\n",
       "      <td>broken clouds</td>\n",
       "      <td>2</td>\n",
       "    </tr>\n",
       "    <tr>\n",
       "      <th>19</th>\n",
       "      <td>2012-10-02 08:00:00</td>\n",
       "      <td>61.0</td>\n",
       "      <td>1014.0</td>\n",
       "      <td>287.348302</td>\n",
       "      <td>292.0</td>\n",
       "      <td>2.0</td>\n",
       "      <td>broken clouds</td>\n",
       "      <td>2</td>\n",
       "    </tr>\n",
       "  </tbody>\n",
       "</table>\n",
       "</div>"
      ],
      "text/plain": [
       "               datetime  humidity  pressure  temperature  wind-direction  \\\n",
       "0   2012-10-01 13:00:00      71.0    1014.0   285.630000           270.0   \n",
       "1   2012-10-01 14:00:00      70.0    1014.0   285.663208           270.0   \n",
       "2   2012-10-01 15:00:00      70.0    1014.0   285.756824           271.0   \n",
       "3   2012-10-01 16:00:00      69.0    1014.0   285.850440           272.0   \n",
       "4   2012-10-01 17:00:00      69.0    1014.0   285.944057           274.0   \n",
       "5   2012-10-01 18:00:00      68.0    1014.0   286.037673           275.0   \n",
       "6   2012-10-01 19:00:00      68.0    1014.0   286.131290           276.0   \n",
       "7   2012-10-01 20:00:00      67.0    1014.0   286.224906           277.0   \n",
       "8   2012-10-01 21:00:00      67.0    1014.0   286.318522           279.0   \n",
       "9   2012-10-01 22:00:00      66.0    1014.0   286.412139           280.0   \n",
       "10  2012-10-01 23:00:00      66.0    1014.0   286.505755           281.0   \n",
       "11  2012-10-02 00:00:00      65.0    1014.0   286.599371           282.0   \n",
       "12  2012-10-02 01:00:00      65.0    1014.0   286.692988           283.0   \n",
       "13  2012-10-02 02:00:00      64.0    1014.0   286.786604           285.0   \n",
       "14  2012-10-02 03:00:00      64.0    1014.0   286.880220           286.0   \n",
       "15  2012-10-02 04:00:00      63.0    1014.0   286.973837           287.0   \n",
       "16  2012-10-02 05:00:00      63.0    1014.0   287.067453           288.0   \n",
       "17  2012-10-02 06:00:00      62.0    1014.0   287.161069           290.0   \n",
       "18  2012-10-02 07:00:00      62.0    1014.0   287.254686           291.0   \n",
       "19  2012-10-02 08:00:00      61.0    1014.0   287.348302           292.0   \n",
       "\n",
       "    wind-speed weather-description  day  \n",
       "0          4.0       broken clouds    1  \n",
       "1          4.0       broken clouds    1  \n",
       "2          3.0       broken clouds    1  \n",
       "3          3.0       broken clouds    1  \n",
       "4          3.0       broken clouds    1  \n",
       "5          3.0       broken clouds    1  \n",
       "6          3.0       broken clouds    1  \n",
       "7          3.0       broken clouds    1  \n",
       "8          3.0       broken clouds    1  \n",
       "9          3.0       broken clouds    1  \n",
       "10         3.0       broken clouds    1  \n",
       "11         2.0       broken clouds    2  \n",
       "12         2.0       broken clouds    2  \n",
       "13         2.0       broken clouds    2  \n",
       "14         2.0       broken clouds    2  \n",
       "15         2.0       broken clouds    2  \n",
       "16         2.0       broken clouds    2  \n",
       "17         2.0       broken clouds    2  \n",
       "18         2.0       broken clouds    2  \n",
       "19         2.0       broken clouds    2  "
      ]
     },
     "execution_count": 8,
     "metadata": {},
     "output_type": "execute_result"
    }
   ],
   "source": [
    "data.head(20)"
   ]
  },
  {
   "cell_type": "code",
   "execution_count": 9,
   "id": "683ecbf6-8757-4727-b015-9df0c80b20c9",
   "metadata": {},
   "outputs": [],
   "source": [
    "x_train, x_test, y_train, y_test = train_test_split(data, data.temperature)"
   ]
  },
  {
   "cell_type": "code",
   "execution_count": 10,
   "id": "0161b9ae-4a8c-4bcb-9700-2ea18bcef023",
   "metadata": {},
   "outputs": [],
   "source": [
    "x_train_date = x_train.datetime\n",
    "x_test_data = x_test.temperature"
   ]
  },
  {
   "cell_type": "code",
   "execution_count": 11,
   "id": "5ad6c515-e1c7-4457-be65-1b96782188da",
   "metadata": {},
   "outputs": [
    {
     "name": "stdout",
     "output_type": "stream",
     "text": [
      "43153    2017-09-29 17:00:00\n",
      "35989    2016-12-05 05:00:00\n",
      "29100    2016-02-21 11:00:00\n",
      "31033    2016-05-12 02:00:00\n",
      "3139     2013-02-17 18:00:00\n",
      "                ...         \n",
      "25339    2015-09-17 18:00:00\n",
      "27420    2015-12-13 11:00:00\n",
      "33666    2016-08-29 20:00:00\n",
      "28291    2016-01-18 18:00:00\n",
      "32340    2016-07-05 13:00:00\n",
      "Name: datetime, Length: 33468, dtype: object\n"
     ]
    }
   ],
   "source": [
    "print(x_train_date)"
   ]
  },
  {
   "cell_type": "code",
   "execution_count": 12,
   "id": "3c10a65a-376c-444a-9cd9-6481896590fb",
   "metadata": {},
   "outputs": [
    {
     "data": {
      "text/html": [
       "<div>\n",
       "<style scoped>\n",
       "    .dataframe tbody tr th:only-of-type {\n",
       "        vertical-align: middle;\n",
       "    }\n",
       "\n",
       "    .dataframe tbody tr th {\n",
       "        vertical-align: top;\n",
       "    }\n",
       "\n",
       "    .dataframe thead th {\n",
       "        text-align: right;\n",
       "    }\n",
       "</style>\n",
       "<table border=\"1\" class=\"dataframe\">\n",
       "  <thead>\n",
       "    <tr style=\"text-align: right;\">\n",
       "      <th></th>\n",
       "      <th>datetime</th>\n",
       "      <th>humidity</th>\n",
       "      <th>pressure</th>\n",
       "      <th>temperature</th>\n",
       "      <th>wind-direction</th>\n",
       "      <th>wind-speed</th>\n",
       "      <th>weather-description</th>\n",
       "      <th>day</th>\n",
       "    </tr>\n",
       "  </thead>\n",
       "  <tbody>\n",
       "    <tr>\n",
       "      <th>43153</th>\n",
       "      <td>2017-09-29 17:00:00</td>\n",
       "      <td>39.0</td>\n",
       "      <td>1018.0</td>\n",
       "      <td>291.880000</td>\n",
       "      <td>320.0</td>\n",
       "      <td>2.0</td>\n",
       "      <td>scattered clouds</td>\n",
       "      <td>29</td>\n",
       "    </tr>\n",
       "    <tr>\n",
       "      <th>35989</th>\n",
       "      <td>2016-12-05 05:00:00</td>\n",
       "      <td>69.0</td>\n",
       "      <td>1019.0</td>\n",
       "      <td>277.870000</td>\n",
       "      <td>203.0</td>\n",
       "      <td>1.0</td>\n",
       "      <td>broken clouds</td>\n",
       "      <td>5</td>\n",
       "    </tr>\n",
       "    <tr>\n",
       "      <th>29100</th>\n",
       "      <td>2016-02-21 11:00:00</td>\n",
       "      <td>87.0</td>\n",
       "      <td>1019.0</td>\n",
       "      <td>277.194843</td>\n",
       "      <td>266.0</td>\n",
       "      <td>2.0</td>\n",
       "      <td>sky is clear</td>\n",
       "      <td>21</td>\n",
       "    </tr>\n",
       "    <tr>\n",
       "      <th>31033</th>\n",
       "      <td>2016-05-12 02:00:00</td>\n",
       "      <td>82.0</td>\n",
       "      <td>1021.0</td>\n",
       "      <td>287.970000</td>\n",
       "      <td>190.0</td>\n",
       "      <td>2.0</td>\n",
       "      <td>mist</td>\n",
       "      <td>12</td>\n",
       "    </tr>\n",
       "    <tr>\n",
       "      <th>3139</th>\n",
       "      <td>2013-02-17 18:00:00</td>\n",
       "      <td>48.0</td>\n",
       "      <td>1013.0</td>\n",
       "      <td>275.910000</td>\n",
       "      <td>360.0</td>\n",
       "      <td>4.0</td>\n",
       "      <td>overcast clouds</td>\n",
       "      <td>17</td>\n",
       "    </tr>\n",
       "    <tr>\n",
       "      <th>...</th>\n",
       "      <td>...</td>\n",
       "      <td>...</td>\n",
       "      <td>...</td>\n",
       "      <td>...</td>\n",
       "      <td>...</td>\n",
       "      <td>...</td>\n",
       "      <td>...</td>\n",
       "      <td>...</td>\n",
       "    </tr>\n",
       "    <tr>\n",
       "      <th>25339</th>\n",
       "      <td>2015-09-17 18:00:00</td>\n",
       "      <td>28.0</td>\n",
       "      <td>1020.0</td>\n",
       "      <td>301.730000</td>\n",
       "      <td>240.0</td>\n",
       "      <td>3.0</td>\n",
       "      <td>few clouds</td>\n",
       "      <td>17</td>\n",
       "    </tr>\n",
       "    <tr>\n",
       "      <th>27420</th>\n",
       "      <td>2015-12-13 11:00:00</td>\n",
       "      <td>89.0</td>\n",
       "      <td>1027.0</td>\n",
       "      <td>283.141093</td>\n",
       "      <td>246.0</td>\n",
       "      <td>1.0</td>\n",
       "      <td>scattered clouds</td>\n",
       "      <td>13</td>\n",
       "    </tr>\n",
       "    <tr>\n",
       "      <th>33666</th>\n",
       "      <td>2016-08-29 20:00:00</td>\n",
       "      <td>43.0</td>\n",
       "      <td>1018.0</td>\n",
       "      <td>305.380000</td>\n",
       "      <td>340.0</td>\n",
       "      <td>2.0</td>\n",
       "      <td>sky is clear</td>\n",
       "      <td>29</td>\n",
       "    </tr>\n",
       "    <tr>\n",
       "      <th>28291</th>\n",
       "      <td>2016-01-18 18:00:00</td>\n",
       "      <td>49.0</td>\n",
       "      <td>1013.0</td>\n",
       "      <td>268.460000</td>\n",
       "      <td>290.0</td>\n",
       "      <td>5.0</td>\n",
       "      <td>sky is clear</td>\n",
       "      <td>18</td>\n",
       "    </tr>\n",
       "    <tr>\n",
       "      <th>32340</th>\n",
       "      <td>2016-07-05 13:00:00</td>\n",
       "      <td>88.0</td>\n",
       "      <td>1009.0</td>\n",
       "      <td>296.320000</td>\n",
       "      <td>280.0</td>\n",
       "      <td>4.0</td>\n",
       "      <td>mist</td>\n",
       "      <td>5</td>\n",
       "    </tr>\n",
       "  </tbody>\n",
       "</table>\n",
       "<p>33468 rows × 8 columns</p>\n",
       "</div>"
      ],
      "text/plain": [
       "                  datetime  humidity  pressure  temperature  wind-direction  \\\n",
       "43153  2017-09-29 17:00:00      39.0    1018.0   291.880000           320.0   \n",
       "35989  2016-12-05 05:00:00      69.0    1019.0   277.870000           203.0   \n",
       "29100  2016-02-21 11:00:00      87.0    1019.0   277.194843           266.0   \n",
       "31033  2016-05-12 02:00:00      82.0    1021.0   287.970000           190.0   \n",
       "3139   2013-02-17 18:00:00      48.0    1013.0   275.910000           360.0   \n",
       "...                    ...       ...       ...          ...             ...   \n",
       "25339  2015-09-17 18:00:00      28.0    1020.0   301.730000           240.0   \n",
       "27420  2015-12-13 11:00:00      89.0    1027.0   283.141093           246.0   \n",
       "33666  2016-08-29 20:00:00      43.0    1018.0   305.380000           340.0   \n",
       "28291  2016-01-18 18:00:00      49.0    1013.0   268.460000           290.0   \n",
       "32340  2016-07-05 13:00:00      88.0    1009.0   296.320000           280.0   \n",
       "\n",
       "       wind-speed weather-description  day  \n",
       "43153         2.0    scattered clouds   29  \n",
       "35989         1.0       broken clouds    5  \n",
       "29100         2.0        sky is clear   21  \n",
       "31033         2.0                mist   12  \n",
       "3139          4.0     overcast clouds   17  \n",
       "...           ...                 ...  ...  \n",
       "25339         3.0          few clouds   17  \n",
       "27420         1.0    scattered clouds   13  \n",
       "33666         2.0        sky is clear   29  \n",
       "28291         5.0        sky is clear   18  \n",
       "32340         4.0                mist    5  \n",
       "\n",
       "[33468 rows x 8 columns]"
      ]
     },
     "execution_count": 12,
     "metadata": {},
     "output_type": "execute_result"
    }
   ],
   "source": [
    "x_train"
   ]
  },
  {
   "cell_type": "code",
   "execution_count": 14,
   "id": "0baa9069-bd34-4669-8a2e-b91988165872",
   "metadata": {},
   "outputs": [],
   "source": [
    "x_train = x_train.drop([\"datetime\", \"temperature\", \"weather-description\"], axis = 1)"
   ]
  },
  {
   "cell_type": "code",
   "execution_count": 15,
   "id": "36f248ba-2bd1-4297-8cde-8cf3aaa6d399",
   "metadata": {},
   "outputs": [],
   "source": [
    "x_test = x_test.drop([\"datetime\", \"temperature\", \"weather-description\"], axis = 1)"
   ]
  },
  {
   "cell_type": "code",
   "execution_count": 16,
   "id": "54eec178-9e54-4b20-b67c-5138ceccc33c",
   "metadata": {},
   "outputs": [
    {
     "data": {
      "text/html": [
       "<div>\n",
       "<style scoped>\n",
       "    .dataframe tbody tr th:only-of-type {\n",
       "        vertical-align: middle;\n",
       "    }\n",
       "\n",
       "    .dataframe tbody tr th {\n",
       "        vertical-align: top;\n",
       "    }\n",
       "\n",
       "    .dataframe thead th {\n",
       "        text-align: right;\n",
       "    }\n",
       "</style>\n",
       "<table border=\"1\" class=\"dataframe\">\n",
       "  <thead>\n",
       "    <tr style=\"text-align: right;\">\n",
       "      <th></th>\n",
       "      <th>humidity</th>\n",
       "      <th>pressure</th>\n",
       "      <th>wind-direction</th>\n",
       "      <th>wind-speed</th>\n",
       "      <th>day</th>\n",
       "    </tr>\n",
       "  </thead>\n",
       "  <tbody>\n",
       "    <tr>\n",
       "      <th>43153</th>\n",
       "      <td>39.0</td>\n",
       "      <td>1018.0</td>\n",
       "      <td>320.0</td>\n",
       "      <td>2.0</td>\n",
       "      <td>29</td>\n",
       "    </tr>\n",
       "    <tr>\n",
       "      <th>35989</th>\n",
       "      <td>69.0</td>\n",
       "      <td>1019.0</td>\n",
       "      <td>203.0</td>\n",
       "      <td>1.0</td>\n",
       "      <td>5</td>\n",
       "    </tr>\n",
       "    <tr>\n",
       "      <th>29100</th>\n",
       "      <td>87.0</td>\n",
       "      <td>1019.0</td>\n",
       "      <td>266.0</td>\n",
       "      <td>2.0</td>\n",
       "      <td>21</td>\n",
       "    </tr>\n",
       "    <tr>\n",
       "      <th>31033</th>\n",
       "      <td>82.0</td>\n",
       "      <td>1021.0</td>\n",
       "      <td>190.0</td>\n",
       "      <td>2.0</td>\n",
       "      <td>12</td>\n",
       "    </tr>\n",
       "    <tr>\n",
       "      <th>3139</th>\n",
       "      <td>48.0</td>\n",
       "      <td>1013.0</td>\n",
       "      <td>360.0</td>\n",
       "      <td>4.0</td>\n",
       "      <td>17</td>\n",
       "    </tr>\n",
       "    <tr>\n",
       "      <th>...</th>\n",
       "      <td>...</td>\n",
       "      <td>...</td>\n",
       "      <td>...</td>\n",
       "      <td>...</td>\n",
       "      <td>...</td>\n",
       "    </tr>\n",
       "    <tr>\n",
       "      <th>25339</th>\n",
       "      <td>28.0</td>\n",
       "      <td>1020.0</td>\n",
       "      <td>240.0</td>\n",
       "      <td>3.0</td>\n",
       "      <td>17</td>\n",
       "    </tr>\n",
       "    <tr>\n",
       "      <th>27420</th>\n",
       "      <td>89.0</td>\n",
       "      <td>1027.0</td>\n",
       "      <td>246.0</td>\n",
       "      <td>1.0</td>\n",
       "      <td>13</td>\n",
       "    </tr>\n",
       "    <tr>\n",
       "      <th>33666</th>\n",
       "      <td>43.0</td>\n",
       "      <td>1018.0</td>\n",
       "      <td>340.0</td>\n",
       "      <td>2.0</td>\n",
       "      <td>29</td>\n",
       "    </tr>\n",
       "    <tr>\n",
       "      <th>28291</th>\n",
       "      <td>49.0</td>\n",
       "      <td>1013.0</td>\n",
       "      <td>290.0</td>\n",
       "      <td>5.0</td>\n",
       "      <td>18</td>\n",
       "    </tr>\n",
       "    <tr>\n",
       "      <th>32340</th>\n",
       "      <td>88.0</td>\n",
       "      <td>1009.0</td>\n",
       "      <td>280.0</td>\n",
       "      <td>4.0</td>\n",
       "      <td>5</td>\n",
       "    </tr>\n",
       "  </tbody>\n",
       "</table>\n",
       "<p>33468 rows × 5 columns</p>\n",
       "</div>"
      ],
      "text/plain": [
       "       humidity  pressure  wind-direction  wind-speed  day\n",
       "43153      39.0    1018.0           320.0         2.0   29\n",
       "35989      69.0    1019.0           203.0         1.0    5\n",
       "29100      87.0    1019.0           266.0         2.0   21\n",
       "31033      82.0    1021.0           190.0         2.0   12\n",
       "3139       48.0    1013.0           360.0         4.0   17\n",
       "...         ...       ...             ...         ...  ...\n",
       "25339      28.0    1020.0           240.0         3.0   17\n",
       "27420      89.0    1027.0           246.0         1.0   13\n",
       "33666      43.0    1018.0           340.0         2.0   29\n",
       "28291      49.0    1013.0           290.0         5.0   18\n",
       "32340      88.0    1009.0           280.0         4.0    5\n",
       "\n",
       "[33468 rows x 5 columns]"
      ]
     },
     "execution_count": 16,
     "metadata": {},
     "output_type": "execute_result"
    }
   ],
   "source": [
    "x_train"
   ]
  },
  {
   "cell_type": "code",
   "execution_count": 17,
   "id": "b5d6e0a9-99c5-4589-9e9f-02c8b9d41887",
   "metadata": {},
   "outputs": [
    {
     "data": {
      "text/plain": [
       "LinearRegression()"
      ]
     },
     "execution_count": 17,
     "metadata": {},
     "output_type": "execute_result"
    }
   ],
   "source": [
    "regr = LinearRegression()\n",
    "#regr.fit(np.array(x_train).reshape(-1,1), y_train)\n",
    "regr.fit(x_train, y_train)"
   ]
  },
  {
   "cell_type": "code",
   "execution_count": 18,
   "id": "63baf65f-5d4a-498d-8308-7a23edf3b37e",
   "metadata": {},
   "outputs": [],
   "source": [
    "#preds = regr.predict(np.array(x_test).reshape(-1,1))\n",
    "preds = regr.predict(x_test)"
   ]
  },
  {
   "cell_type": "code",
   "execution_count": 19,
   "id": "0db8ef66-61c1-4d13-b4bd-9f700fc4a8c5",
   "metadata": {},
   "outputs": [
    {
     "name": "stdout",
     "output_type": "stream",
     "text": [
      "0.12412331638464702\n"
     ]
    }
   ],
   "source": [
    "print(regr.score(x_test, y_test))"
   ]
  },
  {
   "cell_type": "code",
   "execution_count": 20,
   "id": "81117761-7806-45b2-ad9c-40b32a3bdd49",
   "metadata": {},
   "outputs": [
    {
     "name": "stdout",
     "output_type": "stream",
     "text": [
      "0.12852407133877575\n"
     ]
    }
   ],
   "source": [
    "print(regr.score(x_train, y_train))"
   ]
  },
  {
   "cell_type": "code",
   "execution_count": 36,
   "id": "6376d5e9-305b-4637-a23d-005b26c6491f",
   "metadata": {},
   "outputs": [
    {
     "name": "stdout",
     "output_type": "stream",
     "text": [
      "The score of the training data set is: 0.1285\n",
      "The score of the testing data set is: 0.1241\n",
      "The r2 score of testing data compared to the predicted data is: 0.1241\n",
      "The mse of testing data compared to the predicted data is: 92.6434\n",
      "The rmse of testing data compared to the predicted data is: 9.6251\n"
     ]
    }
   ],
   "source": [
    "train_score = regr.score(x_train, y_train)\n",
    "\n",
    "test_score = regr.score(x_test, y_test)\n",
    "\n",
    "r2 = r2_score(y_test, preds)\n",
    "\n",
    "mse = mean_squared_error(y_test, preds)\n",
    "\n",
    "rmse = np.sqrt(mse)\n",
    "\n",
    "print(f\"The score of the training data set is: {round(train_score, 4)}\")\n",
    "print(f\"The score of the testing data set is: {round(test_score, 4)}\")\n",
    "print(f\"The r2 score of testing data compared to the predicted data is: {round(r2, 4)}\")\n",
    "print(f\"The mse of testing data compared to the predicted data is: {round(mse, 4)}\")\n",
    "print(f\"The rmse of testing data compared to the predicted data is: {round(rmse, 4)}\")"
   ]
  },
  {
   "cell_type": "code",
   "execution_count": 21,
   "id": "831424c7-d010-4a2a-a08f-53cba542f523",
   "metadata": {},
   "outputs": [
    {
     "data": {
      "text/plain": [
       "40588    300.540000\n",
       "14314    286.871787\n",
       "23262    296.631667\n",
       "29606    284.530000\n",
       "6177     303.550000\n",
       "7759     294.470000\n",
       "42825    295.480000\n",
       "35345    273.500000\n",
       "29703    282.460000\n",
       "35450    281.460000\n",
       "3336     279.300000\n",
       "35149    281.850000\n",
       "29314    278.408895\n",
       "38565    275.880000\n",
       "9724     277.000000\n",
       "4202     284.580000\n",
       "30670    297.250790\n",
       "7611     297.288333\n",
       "26074    274.150000\n",
       "38345    265.790000\n",
       "Name: temperature, dtype: float64"
      ]
     },
     "execution_count": 21,
     "metadata": {},
     "output_type": "execute_result"
    }
   ],
   "source": [
    "y_test.head(20)"
   ]
  },
  {
   "cell_type": "code",
   "execution_count": 22,
   "id": "8effb737-6e6d-4d79-84f6-27540fff1437",
   "metadata": {},
   "outputs": [
    {
     "data": {
      "text/plain": [
       "43153    291.880000\n",
       "35989    277.870000\n",
       "29100    277.194843\n",
       "31033    287.970000\n",
       "3139     275.910000\n",
       "4565     288.230000\n",
       "22342    293.735000\n",
       "11109    278.750000\n",
       "35706    273.070000\n",
       "11335    268.630000\n",
       "8528     289.746667\n",
       "24221    294.010000\n",
       "37021    276.010000\n",
       "21589    290.268000\n",
       "1539     271.220000\n",
       "23503    290.440000\n",
       "25834    284.020000\n",
       "5460     289.390000\n",
       "34888    294.108900\n",
       "39217    290.150000\n",
       "Name: temperature, dtype: float64"
      ]
     },
     "execution_count": 22,
     "metadata": {},
     "output_type": "execute_result"
    }
   ],
   "source": [
    "y_train.head(20)"
   ]
  },
  {
   "cell_type": "code",
   "execution_count": 23,
   "id": "7774f53d-a39b-4eff-be86-96080969456d",
   "metadata": {},
   "outputs": [
    {
     "data": {
      "text/plain": [
       "array([289.02692393, 281.94503842, 283.37200453, ..., 283.86766427,\n",
       "       286.39621363, 287.46684559])"
      ]
     },
     "execution_count": 23,
     "metadata": {},
     "output_type": "execute_result"
    }
   ],
   "source": [
    "preds"
   ]
  },
  {
   "cell_type": "code",
   "execution_count": 24,
   "id": "64eb08d7-cc29-4f7f-b214-2cf010249bb5",
   "metadata": {},
   "outputs": [],
   "source": [
    "residuals = preds - y_test"
   ]
  },
  {
   "cell_type": "code",
   "execution_count": 25,
   "id": "ffb54cf7-7106-4186-9985-a7b649c3e7fb",
   "metadata": {},
   "outputs": [
    {
     "data": {
      "text/plain": [
       "(array([  22.,  509., 1774., 2490., 2138., 2090., 1499.,  549.,   72.,\n",
       "          14.]),\n",
       " array([-27.07979035, -21.00791493, -14.9360395 ,  -8.86416408,\n",
       "         -2.79228865,   3.27958677,   9.3514622 ,  15.42333762,\n",
       "         21.49521305,  27.56708847,  33.6389639 ]),\n",
       " <BarContainer object of 10 artists>)"
      ]
     },
     "execution_count": 25,
     "metadata": {},
     "output_type": "execute_result"
    },
    {
     "data": {
      "image/png": "[encoded data removed]",
      "text/plain": [
       "<Figure size 432x288 with 1 Axes>"
      ]
     },
     "metadata": {
      "needs_background": "light"
     },
     "output_type": "display_data"
    }
   ],
   "source": [
    "plt.hist(residuals)"
   ]
  },
  {
   "cell_type": "code",
   "execution_count": 28,
   "id": "8dad8c31-92a5-4dd2-8167-f25d0cede742",
   "metadata": {},
   "outputs": [
    {
     "data": {
      "text/plain": [
       "<matplotlib.collections.PathCollection at 0x1c0f5dc2748>"
      ]
     },
     "execution_count": 28,
     "metadata": {},
     "output_type": "execute_result"
    },
    {
     "data": {
      "image/png": "[encoded data removed]",
      "text/plain": [
       "<Figure size 432x288 with 1 Axes>"
      ]
     },
     "metadata": {
      "needs_background": "light"
     },
     "output_type": "display_data"
    }
   ],
   "source": [
    "data['day_of_year'] = data.day\n",
    "plt.scatter(data['day_of_year'], data.temperature)\n",
    "#plt.plot(data['day_of_year'], preds, color='red')"
   ]
  },
  {
   "cell_type": "code",
   "execution_count": 33,
   "id": "59758929-c673-4d8b-be86-4f7635e14caf",
   "metadata": {},
   "outputs": [
    {
     "data": {
      "image/png": "[encoded data removed]",
      "text/plain": [
       "<Figure size 432x288 with 1 Axes>"
      ]
     },
     "metadata": {
      "needs_background": "light"
     },
     "output_type": "display_data"
    }
   ],
   "source": [
    "plt.scatter(x_test.day, y_test, color = \"red\")\n",
    "plt.title(\"Temperature Over Time\")\n",
    "plt.xlabel(\"Day\")\n",
    "plt.ylabel(\"Temp\")\n",
    "plt.show()"
   ]
  },
  {
   "cell_type": "code",
   "execution_count": 35,
   "id": "8ea4717a-18ad-4852-b790-a2c80df66e63",
   "metadata": {},
   "outputs": [],
   "source": [
    "#score = regr.score(data.day, data.temperature)\n",
    "#r2 = r2_score(y, preds)\n",
    "\n",
    "#print(f\"Score: {score}, r2: {r2}\")"
   ]
  },
  {
   "cell_type": "code",
   "execution_count": 40,
   "id": "be344dbd",
   "metadata": {},
   "outputs": [
    {
     "data": {
      "text/plain": [
       "[<matplotlib.lines.Line2D at 0x1c0fbd76948>]"
      ]
     },
     "execution_count": 40,
     "metadata": {},
     "output_type": "execute_result"
    },
    {
     "data": {
      "image/png": "[encoded data removed]",
      "text/plain": [
       "<Figure size 1080x720 with 1 Axes>"
      ]
     },
     "metadata": {
      "needs_background": "light"
     },
     "output_type": "display_data"
    }
   ],
   "source": [
    "plt.figure(figsize = (15,10))\n",
    "plt.title(\"Linear Regression\")\n",
    "plt.xlabel(\"Actual Temperature\")\n",
    "plt.ylabel(\"Predicted Temperature\")\n",
    "plt.scatter(y_test, preds)\n",
    "x = np.array(y_test)\n",
    "y = preds\n",
    "m, b = np.polyfit(x, y, 1)\n",
    "plt.plot(x, m*x + b, color='red')"
   ]
  },
  {
   "cell_type": "code",
   "execution_count": null,
   "id": "436c714c-5c55-43d3-8a58-7ae646c33df8",
   "metadata": {},
   "outputs": [],
   "source": []
  }
 ],
 "metadata": {
  "kernelspec": {
   "display_name": "Python 3",
   "language": "python",
   "name": "python3"
  },
  "language_info": {
   "codemirror_mode": {
    "name": "ipython",
    "version": 3
   },
   "file_extension": ".py",
   "mimetype": "text/x-python",
   "name": "python",
   "nbconvert_exporter": "python",
   "pygments_lexer": "ipython3",
   "version": "3.7.10"
  }
 },
 "nbformat": 4,
 "nbformat_minor": 5
}
